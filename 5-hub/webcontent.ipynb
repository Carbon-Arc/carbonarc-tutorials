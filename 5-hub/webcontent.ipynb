{
 "cells": [
  {
   "cell_type": "markdown",
   "metadata": {},
   "source": [
    "# Webcontent"
   ]
  },
  {
   "cell_type": "code",
   "execution_count": null,
   "metadata": {},
   "outputs": [],
   "source": [
    "# Import required dependencies\n",
    "import os\n",
    "from dotenv import load_dotenv\n",
    "from carbonarc import CarbonArcClient\n",
    "\n",
    "load_dotenv()\n",
    "\n",
    "## Read in environment variables\n",
    "API_AUTH_TOKEN=os.getenv(\"API_AUTH_TOKEN\")\n",
    "\n",
    "# Create API Client\n",
    "client = CarbonArcClient(API_AUTH_TOKEN)"
   ]
  },
  {
   "cell_type": "code",
   "execution_count": null,
   "metadata": {},
   "outputs": [],
   "source": [
    "webcontent_feeds= client.hub.get_webcontent_feeds()"
   ]
  },
  {
   "cell_type": "code",
   "execution_count": null,
   "metadata": {},
   "outputs": [],
   "source": [
    "subscribed_feeds = client.hub.get_subscribed_feeds()"
   ]
  },
  {
   "cell_type": "code",
   "execution_count": null,
   "metadata": {},
   "outputs": [],
   "source": [
    "webcontent_feeds = client.hub.get_webcontent_data(webcontent_name=\"tesla.com\")"
   ]
  }
 ],
 "metadata": {
  "kernelspec": {
   "display_name": ".venv",
   "language": "python",
   "name": "python3"
  },
  "language_info": {
   "codemirror_mode": {
    "name": "ipython",
    "version": 3
   },
   "file_extension": ".py",
   "mimetype": "text/x-python",
   "name": "python",
   "nbconvert_exporter": "python",
   "pygments_lexer": "ipython3",
   "version": "3.10.11"
  }
 },
 "nbformat": 4,
 "nbformat_minor": 2
}
