{
 "cells": [
  {
   "cell_type": "markdown",
   "id": "ca887d55-f396-49cf-b578-33de9b45e096",
   "metadata": {},
   "source": [
    "# Bulk Data - Ingesting data for an identifier to local filesystem"
   ]
  },
  {
   "cell_type": "code",
   "execution_count": null,
   "id": "d4d92af9-064e-407c-93ea-f22c3481ee53",
   "metadata": {},
   "outputs": [],
   "source": [
    "# Import required dependencies\n",
    "import os\n",
    "from carbonarc import CarbonArcClient\n",
    "\n",
    "from datetime import datetime\n",
    "from urllib.parse import urlparse, parse_qs\n",
    "\n",
    "## Read in environment variables\n",
    "API_AUTH_TOKEN=os.getenv(\"API_AUTH_TOKEN\")\n",
    "\n",
    "# Create API Client\n",
    "client = CarbonArcClient(API_AUTH_TOKEN)"
   ]
  },
  {
   "cell_type": "code",
   "execution_count": null,
   "id": "64401c71",
   "metadata": {},
   "outputs": [],
   "source": [
    "data_identifier = \"CA0005\""
   ]
  },
  {
   "cell_type": "code",
   "execution_count": null,
   "id": "6570d4bc-5e41-4619-8149-b58f51a56902",
   "metadata": {},
   "outputs": [],
   "source": [
    "# Helper function to create local path from URL\n",
    "def create_local_path(url: str, base_dir: str = \"./data\") -> tuple:\n",
    "    parsed = urlparse(url)\n",
    "\n",
    "    # Get the table name (second last part of the path)\n",
    "    path_parts = parsed.path.strip(\"/\").split(\"/\")\n",
    "    table_name = path_parts[-2]\n",
    "    filename = path_parts[-1]\n",
    "\n",
    "    # Parse query parameters\n",
    "    query_params = parse_qs(parsed.query)\n",
    "    param_dirs = [f\"{key}={value[0]}\" for key, value in query_params.items()]\n",
    "\n",
    "    # Construct full local path\n",
    "    local_dir = os.path.join(base_dir, table_name, *param_dirs)\n",
    "    local_path = os.path.join(local_dir, f\"{filename}.parquet\")\n",
    "\n",
    "    return local_dir, local_path\n",
    "\n",
    "def download_manifest_files(manifest):\n",
    "    manifest_files = manifest.get(\"files\", [])\n",
    "    print(f\"Downloading {len(manifest_files)} files\")\n",
    "    for file_info in manifest_files:\n",
    "        manifest_file_url = file_info[\"url\"]\n",
    "        local_dir, local_path = create_local_path(manifest_file_url)\n",
    "        # skip download if file exists\n",
    "        if os.path.exists(local_path):\n",
    "            print(f\"File '{local_path}' exists. Skipping download.\")\n",
    "            continue\n",
    "\n",
    "        # make sure local_dir exists\n",
    "        os.makedirs(local_dir, exist_ok=True)\n",
    "        print(f\"Downloading {manifest_file_url} to: {local_path}\")\n",
    "        client.data.download_bulk_data_to_file(manifest_file_url, local_path)  "
   ]
  },
  {
   "cell_type": "code",
   "execution_count": null,
   "id": "05e92c3d-52e7-4a04-804f-5fc22ef09b09",
   "metadata": {},
   "outputs": [],
   "source": [
    "# Download all history for give data identifier\n",
    "manifest = client.data.get_bulk_data_manifest(data_identifier, created_since=None)\n",
    "print(f\"\\nManifest for {data_identifier}:\")\n",
    "download_manifest_files(manifest)"
   ]
  },
  {
   "cell_type": "code",
   "execution_count": null,
   "id": "2584a902-ed04-46ff-9dcc-b37c941896cc",
   "metadata": {},
   "outputs": [],
   "source": [
    "# Downloading files created since last ingestions, this needs last ingestion time\n",
    "last_ingest_time = datetime.utcnow().strftime('%Y-%m-%dT%H:%M:%S')\n",
    "print(last_ingest_time)\n",
    "\n",
    "manifest = client.data.get_bulk_data_manifest(data_identifier, created_since=last_ingest_time)\n",
    "\n",
    "print(f\"\\nManifest for {data_identifier}:\")\n",
    "download_manifest_files(manifest)"
   ]
  },
  {
   "cell_type": "markdown",
   "id": "c82b8980",
   "metadata": {},
   "source": [
    "### Manifest file structure\n",
    "\n",
    "```\n",
    "{ 'url': 'link',\n",
    "'format': 'parquet',\n",
    "'records': 1000,\n",
    "'size_bytes': 123456789,\n",
    "'modification_time': '2025-04-15T23:04:44',\n",
    "'price': 123.45, }"
   ]
  }
 ],
 "metadata": {
  "kernelspec": {
   "display_name": "ca",
   "language": "python",
   "name": "python3"
  },
  "language_info": {
   "codemirror_mode": {
    "name": "ipython",
    "version": 3
   },
   "file_extension": ".py",
   "mimetype": "text/x-python",
   "name": "python",
   "nbconvert_exporter": "python",
   "pygments_lexer": "ipython3",
   "version": "3.11.11"
  }
 },
 "nbformat": 4,
 "nbformat_minor": 5
}
