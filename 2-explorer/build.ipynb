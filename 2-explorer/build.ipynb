{
 "cells": [
  {
   "cell_type": "markdown",
   "metadata": {},
   "source": [
    "# Build"
   ]
  },
  {
   "cell_type": "code",
   "execution_count": null,
   "metadata": {},
   "outputs": [],
   "source": [
    "# Import required dependencies\n",
    "import os\n",
    "from dotenv import load_dotenv\n",
    "from carbonarc import CarbonArcClient\n",
    "\n",
    "load_dotenv()\n",
    "\n",
    "## Read in environment variables\n",
    "API_AUTH_TOKEN=os.getenv(\"API_AUTH_TOKEN\")\n",
    "\n",
    "# Create API Client\n",
    "client = CarbonArcClient(API_AUTH_TOKEN)"
   ]
  },
  {
   "cell_type": "code",
   "execution_count": null,
   "metadata": {},
   "outputs": [],
   "source": [
    "framework = client.explorer.build_framework(\n",
    "    entities=[{\"carc_id\": 647, \"representation\": \"product\"}],\n",
    "    insight=248,\n",
    "    filters={\n",
    "        \"location_resolution\": \"us\",\n",
    "        \"date_resolution\": \"day\",\n",
    "        \"date_range\": {\"start_date\": \"2022-6-20\", \"end_date\": \"2025-6-19\"},\n",
    "        \"platform\": [\"All\"],\n",
    "    },\n",
    "    aggregate=\"mean\"\n",
    ")"
   ]
  },
  {
   "cell_type": "markdown",
   "metadata": {},
   "source": [
    "#### Explore frameworks"
   ]
  },
  {
   "cell_type": "code",
   "execution_count": null,
   "metadata": {},
   "outputs": [],
   "source": [
    "framework_filters = client.explorer.collect_framework_filters(framework)\n",
    "\n",
    "# additionally find filter options\n",
    "filter_key = \"platform\"\n",
    "filter_options = client.explorer.collect_framework_filter_options(framework, filter_key)"
   ]
  },
  {
   "cell_type": "code",
   "execution_count": null,
   "metadata": {},
   "outputs": [],
   "source": [
    "framework_information = client.explorer.collect_framework_information(framework)"
   ]
  },
  {
   "cell_type": "markdown",
   "metadata": {},
   "source": [
    "#### Buy a framework"
   ]
  },
  {
   "cell_type": "code",
   "execution_count": null,
   "metadata": {},
   "outputs": [],
   "source": [
    "order_information = client.explorer.buy_frameworks([framework])"
   ]
  },
  {
   "cell_type": "markdown",
   "metadata": {},
   "source": [
    "#### Retrieve framework id from order information"
   ]
  },
  {
   "cell_type": "code",
   "execution_count": null,
   "metadata": {},
   "outputs": [],
   "source": [
    "framework_id = \"3695f61e-8412-4a16-95ba-58a9b3578048\"\n",
    "framework_metadata = client.explorer.get_framework_metadata(framework_id=framework_id)"
   ]
  },
  {
   "cell_type": "code",
   "execution_count": null,
   "metadata": {},
   "outputs": [],
   "source": [
    "data = client.explorer.get_framework_data(framework_id=framework_id)"
   ]
  },
  {
   "cell_type": "markdown",
   "metadata": {},
   "source": [
    "#### Stream large framework responses"
   ]
  },
  {
   "cell_type": "code",
   "execution_count": null,
   "metadata": {},
   "outputs": [],
   "source": [
    "data = client.explorer.stream_framework_data(framework_id=framework_id)"
   ]
  }
 ],
 "metadata": {
  "kernelspec": {
   "display_name": ".venv",
   "language": "python",
   "name": "python3"
  },
  "language_info": {
   "codemirror_mode": {
    "name": "ipython",
    "version": 3
   },
   "file_extension": ".py",
   "mimetype": "text/x-python",
   "name": "python",
   "nbconvert_exporter": "python",
   "pygments_lexer": "ipython3",
   "version": "3.10.11"
  }
 },
 "nbformat": 4,
 "nbformat_minor": 2
}
