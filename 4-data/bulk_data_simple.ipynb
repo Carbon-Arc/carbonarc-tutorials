{
 "cells": [
  {
   "cell_type": "markdown",
   "metadata": {},
   "source": [
    "# Bulk Data - Getting started"
   ]
  },
  {
   "cell_type": "code",
   "execution_count": null,
   "metadata": {},
   "outputs": [],
   "source": [
    "# Import required dependencies\n",
    "import os\n",
    "from dotenv import load_dotenv\n",
    "from carbonarc import CarbonArcClient\n",
    "\n",
    "load_dotenv()\n",
    "\n",
    "## Read in environment variables\n",
    "API_AUTH_TOKEN=os.getenv(\"API_AUTH_TOKEN\")\n",
    "\n",
    "# Create API Client\n",
    "client = CarbonArcClient(API_AUTH_TOKEN)"
   ]
  },
  {
   "cell_type": "code",
   "execution_count": null,
   "metadata": {},
   "outputs": [],
   "source": [
    "## Get insights data identifiers\n",
    "data_identifiers = client.data.get_datasets()\n",
    "print(\"Data Identifiers:\")\n",
    "for data_id in data_identifiers[\"data\"]:\n",
    "    print(data_id[\"data_identifier\"], \": \", data_id[\"description\"])"
   ]
  },
  {
   "cell_type": "code",
   "execution_count": null,
   "metadata": {},
   "outputs": [],
   "source": [
    "data_identifier = \"CA0004\""
   ]
  },
  {
   "cell_type": "code",
   "execution_count": null,
   "metadata": {},
   "outputs": [],
   "source": [
    "## Getting all manifests files for a given data identifier\n",
    "manifests = client.data.get_data_manifest(data_identifier)\n",
    "print(f\"\\nManifest for {data_identifier}:\")\n",
    "for manifest_file_url in manifests[\"files\"]:\n",
    "    print(manifest_file_url)"
   ]
  },
  {
   "cell_type": "code",
   "execution_count": null,
   "metadata": {},
   "outputs": [],
   "source": [
    "# Download the file from manifest url\n",
    "output_dir=f\"./{data_identifier}\"\n",
    "output_file_path = os.path.join(output_dir, \"part-00001.parquet\")\n",
    "\n",
    "os.makedirs(output_dir, exist_ok=True)\n",
    "\n",
    "print(f\"Downloading manifest file to: {output_file_path}\")\n",
    "client.data.download_data_to_file(manifest_file_url, output_file_path)"
   ]
  }
 ],
 "metadata": {
  "kernelspec": {
   "display_name": "ca",
   "language": "python",
   "name": "python3"
  },
  "language_info": {
   "codemirror_mode": {
    "name": "ipython",
    "version": 3
   },
   "file_extension": ".py",
   "mimetype": "text/x-python",
   "name": "python",
   "nbconvert_exporter": "python",
   "pygments_lexer": "ipython3",
   "version": "3.11.11"
  }
 },
 "nbformat": 4,
 "nbformat_minor": 4
}
