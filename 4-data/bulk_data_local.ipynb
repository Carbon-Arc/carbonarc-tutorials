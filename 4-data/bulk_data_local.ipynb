{
 "cells": [
  {
   "cell_type": "markdown",
   "id": "ca887d55-f396-49cf-b578-33de9b45e096",
   "metadata": {},
   "source": [
    "# Bulk Data - Ingesting data for an identifier to local filesystem"
   ]
  },
  {
   "cell_type": "code",
   "execution_count": null,
   "id": "d4d92af9-064e-407c-93ea-f22c3481ee53",
   "metadata": {},
   "outputs": [],
   "source": [
    "# Import required dependencies\n",
    "import os\n",
    "from datetime import datetime\n",
    "from dotenv import load_dotenv\n",
    "from carbonarc import CarbonArcClient\n",
    "\n",
    "load_dotenv()\n",
    "\n",
    "## Read in environment variables\n",
    "API_AUTH_TOKEN=os.getenv(\"API_AUTH_TOKEN\")\n",
    "\n",
    "# Create API Client\n",
    "client = CarbonArcClient(API_AUTH_TOKEN)"
   ]
  },
  {
   "cell_type": "code",
   "execution_count": null,
   "id": "6570d4bc-5e41-4619-8149-b58f51a56902",
   "metadata": {},
   "outputs": [],
   "source": [
    "## List datasets\n",
    "datasets = client.data.get_datasets()"
   ]
  },
  {
   "cell_type": "code",
   "execution_count": null,
   "id": "05e92c3d-52e7-4a04-804f-5fc22ef09b09",
   "metadata": {},
   "outputs": [],
   "source": [
    "## Get information for give dataset\n",
    "dataset = client.data.get_dataset_information(dataset_id=\"CA0000\")"
   ]
  },
  {
   "cell_type": "code",
   "execution_count": null,
   "id": "2584a902-ed04-46ff-9dcc-b37c941896cc",
   "metadata": {},
   "outputs": [],
   "source": [
    "## Downloading files created since last ingestions, this needs last ingestion time\n",
    "last_ingest_time = datetime.now().strftime('%Y-%m-%dT%H:%M:%S')\n",
    "print(last_ingest_time)\n",
    "\n",
    "manifest = client.data.get_data_manifest(dataset_id=\"CA0000\", created_since=last_ingest_time)"
   ]
  },
  {
   "cell_type": "markdown",
   "id": "c82b8980",
   "metadata": {},
   "source": [
    "### Manifest file structure\n",
    "\n",
    "```bash\n",
    "{\n",
    "    'url': 'link',\n",
    "    'format': 'parquet',\n",
    "    'records': 1000,\n",
    "    'size_bytes': 123456789,\n",
    "    'modification_time': '2025-04-15T23:04:44',\n",
    "    'price': 123.45,\n",
    "}"
   ]
  },
  {
   "cell_type": "code",
   "execution_count": null,
   "id": "43c105f5",
   "metadata": {},
   "outputs": [],
   "source": [
    "## Find and pick file urls from manifest\n",
    "file_urls = [x['url'] for x in manifest['datasources']]\n",
    "\n",
    "## Buy manifest files\n",
    "order = client.data.buy_data(dataset_id=\"CA0028\", file_urls=file_urls)"
   ]
  },
  {
   "cell_type": "code",
   "execution_count": null,
   "id": "029b90b3",
   "metadata": {},
   "outputs": [],
   "source": [
    "## Download file to current directory\n",
    "client.data.download_file(file_id=order['files'][0], directory=\"./\")"
   ]
  }
 ],
 "metadata": {
  "kernelspec": {
   "display_name": "ca",
   "language": "python",
   "name": "python3"
  },
  "language_info": {
   "codemirror_mode": {
    "name": "ipython",
    "version": 3
   },
   "file_extension": ".py",
   "mimetype": "text/x-python",
   "name": "python",
   "nbconvert_exporter": "python",
   "pygments_lexer": "ipython3",
   "version": "3.11.11"
  }
 },
 "nbformat": 4,
 "nbformat_minor": 5
}
