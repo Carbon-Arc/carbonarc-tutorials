{
 "cells": [
  {
   "cell_type": "markdown",
   "metadata": {},
   "source": [
    "# Bulk Data Remote - S3 Example\n",
    "\n",
    "## This example shows how to download bulk data to S3.\n",
    "- To download to Azure, use `client.data.download_data_to_azure`\n",
    "- To download to GCP, use `client.data.download_data_to_gcp`"
   ]
  },
  {
   "cell_type": "code",
   "execution_count": null,
   "metadata": {},
   "outputs": [],
   "source": [
    "# Import required dependencies\n",
    "import os\n",
    "from dotenv import load_dotenv\n",
    "from carbonarc import CarbonArcClient\n",
    "\n",
    "load_dotenv()\n",
    "\n",
    "# AWS Python SDK\n",
    "import boto3\n",
    "\n",
    "## Read in environment variables\n",
    "API_AUTH_TOKEN=os.getenv(\"API_AUTH_TOKEN\")\n",
    "S3_BUCKET=os.getenv(\"S3_BUCKET\")\n",
    "\n",
    "# Create API Client\n",
    "ca = CarbonArcClient(API_AUTH_TOKEN)\n",
    "\n",
    "# Initialize S3 client with environment variables\n",
    "s3_client = boto3.client(\n",
    "    's3',\n",
    "    aws_access_key_id=os.environ.get('AWS_ACCESS_KEY_ID'),\n",
    "    aws_secret_access_key=os.environ.get('AWS_SECRET_ACCESS_KEY'),\n",
    "    aws_session_token=os.environ.get('AWS_SESSION_TOKEN'),  # Optional, for temporary credentials\n",
    "    region_name=os.environ.get('AWS_REGION', 'us-east-1')  # Default to us-east-1 if not specified\n",
    ")"
   ]
  },
  {
   "cell_type": "code",
   "execution_count": null,
   "metadata": {},
   "outputs": [],
   "source": [
    "DATA_IDENTIFIERS = {\n",
    "    \"CA0031\": {\n",
    "        \"outputdir\": \"output/CA0031\",\n",
    "        \"filters\": {},\n",
    "    }\n",
    "}"
   ]
  },
  {
   "cell_type": "code",
   "execution_count": null,
   "metadata": {},
   "outputs": [],
   "source": [
    "# Initialize S3 client with environment variables\n",
    "s3_client = boto3.client(\n",
    "    's3',\n",
    "    aws_access_key_id=os.environ.get('AWS_ACCESS_KEY_ID'),\n",
    "    aws_secret_access_key=os.environ.get('AWS_SECRET_ACCESS_KEY'),\n",
    "    aws_session_token=os.environ.get('AWS_SESSION_TOKEN'),  # Optional, for temporary credentials\n",
    "    region_name=os.environ.get('AWS_REGION', 'us-east-1')  # Default to us-east-1 if not specified\n",
    ")"
   ]
  },
  {
   "cell_type": "code",
   "execution_count": null,
   "metadata": {},
   "outputs": [],
   "source": [
    "# Download data for each data identifier\n",
    "assert isinstance(S3_BUCKET, str), \"S3_BUCKET must be set in environment variables\"\n",
    "\n",
    "\n",
    "for data_id, data in DATA_IDENTIFIERS.items():\n",
    "    # print(f\"Downloading data for {data_id}\")\n",
    "    params = data[\"filters\"]\n",
    "    outputdir = data[\"outputdir\"]\n",
    "     \n",
    "    # Get data manifest, this will contain all the files that can be downloaded\n",
    "    # You can track the downloaded files to maintain ingestion state\n",
    "    manifest = ca.data.get_data_manifest(data_id)\n",
    "    print(f\"Data id: {data_id}, total files: {len(manifest['files'])}\")\n",
    "    # print(f\"Manifest: {manifest}\")\n",
    "    \n",
    "    # Download all files in the manifest, this can be done in parallel to speed up the process\n",
    "    for file in manifest[\"files\"]:\n",
    "        # Download the file to the output directory\n",
    "        print(f\"Downloading file {file}...\")\n",
    "        print(f\"{file['size_bytes']/1024/1024} MB\")\n",
    "        \n",
    "        # Download the file to S3\n",
    "        ca.data.download_data_to_s3(\n",
    "            s3_client,\n",
    "            file[\"url\"],\n",
    "            s3_bucket=S3_BUCKET,\n",
    "            s3_key_prefix=outputdir,\n",
    "\n",
    "        )\n",
    "        \n",
    "    print(f\"Downloaded all files for {data_id}\")"
   ]
  }
 ],
 "metadata": {
  "kernelspec": {
   "display_name": "ca",
   "language": "python",
   "name": "python3"
  },
  "language_info": {
   "codemirror_mode": {
    "name": "ipython",
    "version": 3
   },
   "file_extension": ".py",
   "mimetype": "text/x-python",
   "name": "python",
   "nbconvert_exporter": "python",
   "pygments_lexer": "ipython3",
   "version": "3.11.11"
  }
 },
 "nbformat": 4,
 "nbformat_minor": 2
}
