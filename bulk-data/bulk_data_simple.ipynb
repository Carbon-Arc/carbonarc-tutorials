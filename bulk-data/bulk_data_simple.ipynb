{
 "cells": [
  {
   "cell_type": "markdown",
   "metadata": {},
   "source": [
    "# Bulk Data Tutorials\n",
    "\n",
    "## Prerequisites\n",
    "- Python 3.x\n",
    "- `carbonarc` library\n",
    "\n",
    "## Setup\n",
    "\n",
    "1. create .env file in the same directory as this notebook\n",
    "2. add the following lines to the .env file:\n",
    "\n",
    "```\n",
    "API_AUTH_TOKEN=<api auth token from (https://platform.carbonarc.co/profile)>\n",
    "```"
   ]
  },
  {
   "cell_type": "code",
   "execution_count": null,
   "metadata": {},
   "outputs": [],
   "source": [
    "# Import required dependencies\n",
    "import os\n",
    "from carbonarc import APIClient"
   ]
  },
  {
   "cell_type": "code",
   "execution_count": null,
   "metadata": {},
   "outputs": [],
   "source": [
    "# Get client_id and api key from https://platform.carbonarc.co/profile and add to environment variable\n",
    "API_AUTH_TOKEN=os.getenv(\"API_AUTH_TOKEN\", None)"
   ]
  },
  {
   "cell_type": "code",
   "execution_count": null,
   "metadata": {},
   "outputs": [],
   "source": [
    "DATA_IDENTIFIERS = {\n",
    "    \"pos_instore_online_data\": {\n",
    "        \"outputdir\": \"output/pos/instore_online\",\n",
    "        \"filters\": {},\n",
    "    }\n",
    "}"
   ]
  },
  {
   "cell_type": "code",
   "execution_count": null,
   "metadata": {},
   "outputs": [],
   "source": [
    "# Create API Client\n",
    "api_client = APIClient(API_AUTH_TOKEN)"
   ]
  },
  {
   "cell_type": "code",
   "execution_count": null,
   "metadata": {},
   "outputs": [],
   "source": [
    "# Download data for each data identifier\n",
    "for data_id, data in DATA_IDENTIFIERS.items():\n",
    "    # print(f\"Downloading data for {data_id}\")\n",
    "    outputdir = data[\"outputdir\"]\n",
    "     \n",
    "    # Get data manifest, this will contain all the files that can be downloaded\n",
    "    # You can track the downloaded files to maintain ingestion state\n",
    "    manifest = api_client.get_alldata_data_manifest(data_id)\n",
    "    print(f\"Data id: {data_id}, total files: {len(manifest['files'])}\")\n",
    "    # print(f\"Manifest: {manifest}\")\n",
    "    \n",
    "    # Download all files in the manifest, this can be done in parallel to speed up the process\n",
    "    for file in manifest[\"files\"]:\n",
    "        # Download the file to the output directory\n",
    "        print(f\"Downloading file {file}...\")\n",
    "        print(f\"{file['size_bytes']/1024/1024} MB\")\n",
    "        # Uncomment the line below to download files locally\n",
    "        # api_client.download_alldata_file(file[\"url\"], outputdir)\n",
    "        \n",
    "        # Download the file to S3\n",
    "        api_client.download_alldata_data_file(\n",
    "            file[\"url\"],\n",
    "            \".\"\n",
    "        )\n",
    "        \n",
    "    print(f\"Downloaded all files for {data_id}\")"
   ]
  }
 ],
 "metadata": {
  "kernelspec": {
   "display_name": ".venv",
   "language": "python",
   "name": "python3"
  },
  "language_info": {
   "codemirror_mode": {
    "name": "ipython",
    "version": 3
   },
   "file_extension": ".py",
   "mimetype": "text/x-python",
   "name": "python",
   "nbconvert_exporter": "python",
   "pygments_lexer": "ipython3",
   "version": "3.10.11"
  }
 },
 "nbformat": 4,
 "nbformat_minor": 2
}
