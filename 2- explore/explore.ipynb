{
 "cells": [
  {
   "cell_type": "markdown",
   "metadata": {},
   "source": [
    "# Introduction\n",
    "\n",
    "## Prerequisites\n",
    "- `carbonarc` library\n",
    "\n",
    "## Setup\n",
    "\n",
    "1. create .env file in the same directory as this notebook\n",
    "2. add the following lines to the .env file:\n",
    "\n",
    "```\n",
    "API_AUTH_TOKEN=<api auth token from (https://platform.carbonarc.co/profile)>\n",
    "```"
   ]
  },
  {
   "cell_type": "code",
   "execution_count": null,
   "metadata": {},
   "outputs": [],
   "source": [
    "# Import required dependencies\n",
    "import os\n",
    "from carbonarc import APIClient"
   ]
  },
  {
   "cell_type": "code",
   "execution_count": null,
   "metadata": {},
   "outputs": [],
   "source": [
    "# Get client_id and api key from https://platform.carbonarc.co/profile and add to environment variable\n",
    "API_AUTH_TOKEN=os.getenv(\"API_AUTH_TOKEN\")"
   ]
  },
  {
   "cell_type": "code",
   "execution_count": null,
   "metadata": {},
   "outputs": [],
   "source": [
    "# Create API Client\n",
    "assert API_AUTH_TOKEN, \"API_AUTH_TOKEN must be set in environment variables\"\n",
    "api_client = APIClient(API_AUTH_TOKEN)"
   ]
  },
  {
   "cell_type": "markdown",
   "metadata": {},
   "source": [
    "Explore Insights"
   ]
  },
  {
   "cell_type": "code",
   "execution_count": null,
   "metadata": {},
   "outputs": [],
   "source": [
    "# Get a insight data identifier\n",
    "data_id = api_client.get_insight_data_identifiers(page=1, page_size=1)[\"data\"][0][\"data_identifier\"]"
   ]
  },
  {
   "cell_type": "code",
   "execution_count": null,
   "metadata": {},
   "outputs": [],
   "source": [
    "# Get insight metadata\n",
    "metadata = api_client.get_insight_metadata(data_id)"
   ]
  }
 ],
 "metadata": {
  "kernelspec": {
   "display_name": ".venv",
   "language": "python",
   "name": "python3"
  },
  "language_info": {
   "codemirror_mode": {
    "name": "ipython",
    "version": 3
   },
   "file_extension": ".py",
   "mimetype": "text/x-python",
   "name": "python",
   "nbconvert_exporter": "python",
   "pygments_lexer": "ipython3",
   "version": "3.10.11"
  }
 },
 "nbformat": 4,
 "nbformat_minor": 2
}
