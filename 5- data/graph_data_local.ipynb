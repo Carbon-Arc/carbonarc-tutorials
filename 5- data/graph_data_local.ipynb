{
 "cells": [
  {
   "cell_type": "markdown",
   "id": "ca887d55-f396-49cf-b578-33de9b45e096",
   "metadata": {},
   "source": [
    "# Bulk Data - Ingesting alldata for a data identifier to local filesystem\n",
    "\n",
    "This notebook walks through a tutorial to pull data for `vehicle_registration_data` identifier.\n",
    "\n",
    "## Prerequisites\n",
    "- `carbonarc` sdk and other dependencies in local python environment\n",
    "\n",
    "```\n",
    "python3.10 -m venv .venv\n",
    "source .venv/bin/activate\n",
    "pip install git+https://github.com/Carbon-Arc/carbonarc\n",
    "pip install python-dotenv\n",
    "```\n",
    "\n",
    "## Setup\n",
    "\n",
    "1. create .env file in the same directory as this notebook or export `API_AUTH_TOKEN` env variable\n",
    "2. If using .env add the following lines to the .env :\n",
    "\n",
    "```\n",
    "API_AUTH_TOKEN=<api auth token from (https://platform.carbonarc.co/profile)>\n",
    "```"
   ]
  },
  {
   "cell_type": "code",
   "execution_count": null,
   "id": "d4d92af9-064e-407c-93ea-f22c3481ee53",
   "metadata": {},
   "outputs": [],
   "source": [
    "# Import required dependencies\n",
    "import os\n",
    "from dotenv import load_dotenv\n",
    "from carbonarc import CarbonArcClient\n",
    "from urllib.parse import urlparse, parse_qs\n",
    "from datetime import datetime"
   ]
  },
  {
   "cell_type": "code",
   "execution_count": null,
   "id": "1995d86f-0ead-4bed-81d5-9e258f20f784",
   "metadata": {},
   "outputs": [],
   "source": [
    "## Read in environment variables and setup constants\n",
    "load_dotenv()\n",
    "API_AUTH_TOKEN=os.getenv(\"API_AUTH_TOKEN\", None)\n",
    "data_identifier = \"vehicle_registration_data\""
   ]
  },
  {
   "cell_type": "code",
   "execution_count": null,
   "id": "b32df763-4bcd-40d5-a36c-503109070cd9",
   "metadata": {},
   "outputs": [],
   "source": [
    "# Create API Client\n",
    "assert API_AUTH_TOKEN, \"API_AUTH_TOKEN must be set in environment variables\"\n",
    "client = CarbonArcClient(API_AUTH_TOKEN)"
   ]
  },
  {
   "cell_type": "code",
   "execution_count": null,
   "id": "6570d4bc-5e41-4619-8149-b58f51a56902",
   "metadata": {},
   "outputs": [],
   "source": [
    "# Helper function to create local path from URL\n",
    "def create_local_path(url: str, base_dir: str = \"./data\") -> tuple:\n",
    "    parsed = urlparse(url)\n",
    "\n",
    "    # Get the table name (second last part of the path)\n",
    "    path_parts = parsed.path.strip(\"/\").split(\"/\")\n",
    "    table_name = path_parts[-2]\n",
    "    filename = path_parts[-1]\n",
    "\n",
    "    # Parse query parameters\n",
    "    query_params = parse_qs(parsed.query)\n",
    "    param_dirs = [f\"{key}={value[0]}\" for key, value in query_params.items()]\n",
    "\n",
    "    # Construct full local path\n",
    "    local_dir = os.path.join(base_dir, table_name, *param_dirs)\n",
    "    local_path = os.path.join(local_dir, f\"{filename}.parquet\")\n",
    "\n",
    "    return local_dir, local_path\n",
    "\n",
    "def download_manifest_files(manifest):\n",
    "    manifest_files = manifest.get(\"files\", [])\n",
    "    print(f\"Downloading {len(manifest_files)} files\")\n",
    "    for file_info in manifest_files:\n",
    "        manifest_file_url = file_info[\"url\"]\n",
    "        local_dir, local_path = create_local_path(manifest_file_url)\n",
    "        # skip download if file exists\n",
    "        if os.path.exists(local_path):\n",
    "            print(f\"File '{local_path}' exists. Skipping download.\")\n",
    "            continue\n",
    "\n",
    "        # make sure local_dir exists\n",
    "        os.makedirs(local_dir, exist_ok=True)\n",
    "        print(f\"Downloading {manifest_file_url} to: {local_path}\")\n",
    "        client.data.download_bulk_data_to_file(manifest_file_url, local_path)  "
   ]
  },
  {
   "cell_type": "code",
   "execution_count": null,
   "id": "05e92c3d-52e7-4a04-804f-5fc22ef09b09",
   "metadata": {},
   "outputs": [],
   "source": [
    "# Download all history for give data identifier\n",
    "manifest = client.data.get_bulk_data_manifest(data_identifier, created_since=None)\n",
    "print(f\"\\nManifest for {data_identifier}:\")\n",
    "download_manifest_files(manifest)"
   ]
  },
  {
   "cell_type": "code",
   "execution_count": null,
   "id": "2584a902-ed04-46ff-9dcc-b37c941896cc",
   "metadata": {},
   "outputs": [],
   "source": [
    "# Downloading files created since last ingestions, this needs last ingestion time\n",
    "last_ingest_time = datetime.utcnow().strftime('%Y-%m-%dT%H:%M:%S')\n",
    "print(last_ingest_time)\n",
    "\n",
    "manifest = client.data.get_bulk_data_manifest(data_identifier, created_since=last_ingest_time)\n",
    "\n",
    "print(f\"\\nManifest for {data_identifier}:\")\n",
    "download_manifest_files(manifest)"
   ]
  },
  {
   "cell_type": "markdown",
   "id": "c82b8980",
   "metadata": {},
   "source": [
    "### Manifest file structure\n",
    "\n",
    "```\n",
    "{ 'url': 'link',\n",
    "'format': 'parquet',\n",
    "'records': 1000,\n",
    "'size_bytes': 123456789,\n",
    "'modification_time': '2025-04-15T23:04:44',\n",
    "'price': 123.45, }"
   ]
  }
 ],
 "metadata": {
  "kernelspec": {
   "display_name": "ca",
   "language": "python",
   "name": "python3"
  },
  "language_info": {
   "codemirror_mode": {
    "name": "ipython",
    "version": 3
   },
   "file_extension": ".py",
   "mimetype": "text/x-python",
   "name": "python",
   "nbconvert_exporter": "python",
   "pygments_lexer": "ipython3",
   "version": "3.11.11"
  }
 },
 "nbformat": 4,
 "nbformat_minor": 5
}
