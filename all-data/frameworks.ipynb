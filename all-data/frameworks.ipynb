{
 "cells": [
  {
   "cell_type": "markdown",
   "metadata": {},
   "source": [
    "# Bulk Data - Getting started\n",
    "\n",
    "## Prerequisites\n",
    "- `carbonarc` sdk and other dependencies in local python environment\n",
    "\n",
    "```\n",
    "python3.10 -m venv .venv\n",
    "source .venv/bin/activate\n",
    "pip install git+https://github.com/Carbon-Arc/carbonarc\n",
    "pip install python-dotenv\n",
    "```\n",
    "\n",
    "## Setup\n",
    "\n",
    "1. create .env file in the same directory as this notebook or export `API_AUTH_TOKEN` env variable\n",
    "2. If using .env add the following lines to the .env :\n",
    "\n",
    "```\n",
    "API_AUTH_TOKEN=<api auth token from (https://platform.carbonarc.co/profile)>\n",
    "```"
   ]
  },
  {
   "cell_type": "code",
   "execution_count": 93,
   "metadata": {},
   "outputs": [],
   "source": [
    "# Import required dependencies\n",
    "import os\n",
    "import json\n",
    "import pandas as pd\n",
    "from pprint import pprint\n",
    "from dotenv import load_dotenv\n",
    "from carbonarc import APIClient"
   ]
  },
  {
   "cell_type": "code",
   "execution_count": 94,
   "metadata": {},
   "outputs": [],
   "source": [
    "## Read in environment variables\n",
    "load_dotenv()\n",
    "API_AUTH_TOKEN=os.getenv(\"API_AUTH_TOKEN\", None)"
   ]
  },
  {
   "cell_type": "code",
   "execution_count": 95,
   "metadata": {},
   "outputs": [],
   "source": [
    "# Create API Client\n",
    "client = APIClient(API_AUTH_TOKEN)"
   ]
  },
  {
   "cell_type": "code",
   "execution_count": 116,
   "metadata": {},
   "outputs": [],
   "source": [
    "## Create framework payload\n",
    "payload = payload = {\n",
    "    \"frameworks\": [\n",
    "        {\n",
    "            \"insight\": {\n",
    "                \"topic_id\": 122,\n",
    "                \"insight_id\": 566,\n",
    "                \"insight_type\": \"insight_metric\",\n",
    "            },\n",
    "            \"filters\": {\n",
    "                \"location_resolution\": \"cbsa\",\n",
    "                \"date_aggregation\": \"daily\",\n",
    "                \"demographic_segment\": \"Baby Boomers (1946-1964)\",\n",
    "                \"demographic_category\": \"Gender\",\n",
    "                \"platform_name\": \"All\",\n",
    "            },\n",
    "            \"entities\": [\n",
    "                {\"carc_id\": 3233, \"representation\": \"ticker\"},\n",
    "                {\"carc_id\": 154, \"representation\": \"service\"},\n",
    "                {\"carc_id\": 30065, \"representation\": \"service\"},\n",
    "            ],\n",
    "        }\n",
    "    ]\n",
    "}"
   ]
  },
  {
   "cell_type": "code",
   "execution_count": 120,
   "metadata": {},
   "outputs": [
    {
     "data": {
      "text/plain": [
       "{'total_price': 0.0736,\n",
       " 'number_of_frameworks': 1,\n",
       " 'frameworks': [{'refreshed_date': '2025-05-14 10:34:14',\n",
       "   'reinstated_date': '2025-05-14 10:34:14',\n",
       "   'price': 0.0736,\n",
       "   'schema': [{'col_name': 'representation', 'data_type': 'string'},\n",
       "    {'col_name': 'carc_id', 'data_type': 'string'},\n",
       "    {'col_name': 'carc_name', 'data_type': 'string'},\n",
       "    {'col_name': 'date', 'data_type': 'string'},\n",
       "    {'col_name': 'total_visits', 'data_type': 'string'}],\n",
       "   'insight_information': [{'subject_id': 14,\n",
       "     'subject_name': 'clickstream',\n",
       "     'subject_label': 'Clickstream',\n",
       "     'subject_description': 'Data on user activity and behavior on websites.',\n",
       "     'subject_keywords': 'Clickstream, Web, Engagement',\n",
       "     'subject_category': 'Engagement',\n",
       "     'subject_type': 'insight',\n",
       "     'insight_id': 566,\n",
       "     'insight_name': 'demo_total_visits',\n",
       "     'insight_label': 'Website Traffic',\n",
       "     'entity_subtopic_id': 156,\n",
       "     'entity_subtopic_name': 'clickd',\n",
       "     'entity_subtopic_label': 'Clickstream by Demographic',\n",
       "     'entity_subtopic_keywords': 'Clickstream, Attention, Website, Traffic, Engagement, Web, Desktop, Mobile, Site, Demo, Demographic',\n",
       "     'entity_topic_id': 122,\n",
       "     'entity_topic_name': 'clickd',\n",
       "     'entity_topic_label': 'Clickstream by Demographic',\n",
       "     'entity_topic_keywords': 'Clickstream, Attention, Website, Traffic, Engagement, Web, Desktop, Mobile, Site, Demo, Demographic',\n",
       "     'metric_id': 52,\n",
       "     'metric_name': 'total_visits',\n",
       "     'metric_label': 'Website Traffic',\n",
       "     'insight_type': 'insight_metric'}],\n",
       "   'entities': [{'representation': 'ticker',\n",
       "     'id_column': 'ticker_id',\n",
       "     'name_column': 'ticker',\n",
       "     'carc_id': 3233,\n",
       "     'carc_name': 'UDR',\n",
       "     'domain': 'biopharma realestate',\n",
       "     'category': {'id': [115, 246],\n",
       "      'name': ['Financials', 'Real Estate'],\n",
       "      'representation': 'category',\n",
       "      'entity': 'company'},\n",
       "     'entity': 'company'},\n",
       "    {'representation': 'service',\n",
       "     'id_column': 'service_brand_id',\n",
       "     'name_column': 'service_brand_name',\n",
       "     'carc_id': 154,\n",
       "     'carc_name': '3CX',\n",
       "     'domain': 'bizfin',\n",
       "     'category': {'id': [115, 1005, 874, 995],\n",
       "      'name': ['Financials',\n",
       "       'Financial Services',\n",
       "       'Specialized Finance',\n",
       "       'Business Operation Software'],\n",
       "      'representation': 'category',\n",
       "      'entity': 'brand'},\n",
       "     'entity': 'brand'},\n",
       "    {'representation': 'service',\n",
       "     'id_column': 'service_brand_id',\n",
       "     'name_column': 'service_brand_name',\n",
       "     'carc_id': 30065,\n",
       "     'carc_name': 'AAA Auto Insurance',\n",
       "     'domain': 'bizfin',\n",
       "     'category': {'id': [115, 161, 14],\n",
       "      'name': ['Financials', 'Insurance', 'Auto Insurance'],\n",
       "      'representation': 'category',\n",
       "      'entity': 'brand'},\n",
       "     'entity': 'brand'}]}]}"
      ]
     },
     "execution_count": 120,
     "metadata": {},
     "output_type": "execute_result"
    }
   ],
   "source": [
    "# Get framework metadata\n",
    "url = \"https://dev1.platform.carbonarc.co/api/v2/framework/metadata\"\n",
    "response=client._post(url, json=payload)\n",
    "response"
   ]
  },
  {
   "cell_type": "code",
   "execution_count": 87,
   "metadata": {},
   "outputs": [
    {
     "data": {
      "text/plain": [
       "{'id': 'fd1dcc5d-740c-4523-975b-b12d3377dbb6',\n",
       " 'name': 'order-10',\n",
       " 'description': 'Amazon  - credit card spend',\n",
       " 'frameworks': ['4e03cfb8-3121-4fa9-9161-388fe7c63128']}"
      ]
     },
     "execution_count": 87,
     "metadata": {},
     "output_type": "execute_result"
    }
   ],
   "source": [
    "# Create Framework Order - A client will be charged when they place an order\n",
    "url = \"https://dev1.platform.carbonarc.co/api/v2/framework/orders\"\n",
    "order_payload = payload\n",
    "order_payload[\"name\"] = \"ORDER\"\n",
    "order_payload[\"description\"] = \"My Insights\"\n",
    "response=client._post(url, json=order_payload)\n",
    "response"
   ]
  },
  {
   "cell_type": "code",
   "execution_count": 75,
   "metadata": {},
   "outputs": [
    {
     "data": {
      "text/plain": [
       "{'total': 9,\n",
       " 'page': 1,\n",
       " 'size': 10,\n",
       " 'pages': 1,\n",
       " 'items': [{'id': 'c977c931-1c49-4de2-b0ae-c4dca63a5971',\n",
       "   'name': 'order-8',\n",
       "   'description': 'Michael Kors and Under Armor  - credit card spend',\n",
       "   'user_email': 'dmalav@carbonarc.co',\n",
       "   'framework_ids': ['c1ef5c0b-91cd-4388-8a91-0fe69798075f',\n",
       "    'd0c6da4f-0ce0-4be3-86d6-f8f243173696'],\n",
       "   'created_at': '2025-05-21T02:12:08.147266',\n",
       "   'updated_at': '2025-05-21T02:12:08.147266'},\n",
       "  {'id': '7fae3c4d-3077-4cfd-858f-5978a5e3ca70',\n",
       "   'name': 'order-7',\n",
       "   'description': 'Michael Kors and Under Armor  - credit card spend',\n",
       "   'user_email': 'dmalav@carbonarc.co',\n",
       "   'framework_ids': ['4b4e5c26-4abe-430d-9e5e-5dd893e24715',\n",
       "    'ba061890-d736-40c1-9f04-3f49714c7ba4'],\n",
       "   'created_at': '2025-05-20T14:53:50.923710',\n",
       "   'updated_at': '2025-05-20T14:53:50.923710'},\n",
       "  {'id': '7f0f9669-8035-4f0a-a6e0-25149a72346a',\n",
       "   'name': 'order-6',\n",
       "   'description': 'Michael Kors and Under Armor  - credit card spend',\n",
       "   'user_email': 'dmalav@carbonarc.co',\n",
       "   'framework_ids': [],\n",
       "   'created_at': '2025-05-20T12:49:54.125019',\n",
       "   'updated_at': '2025-05-20T12:49:54.125019'},\n",
       "  {'id': '773cb222-0844-474d-a7b5-48c0b3c57e62',\n",
       "   'name': 'order-6',\n",
       "   'description': 'Michael Kors and Under Armor  - credit card spend',\n",
       "   'user_email': 'dmalav@carbonarc.co',\n",
       "   'framework_ids': ['1d3a45a6-1af3-44cb-8463-961946b7b0c4',\n",
       "    'bc9babe7-1e44-4b3d-b083-c321c073b1cc'],\n",
       "   'created_at': '2025-05-15T20:00:16.595686',\n",
       "   'updated_at': '2025-05-15T20:00:16.595686'},\n",
       "  {'id': '8f52b61a-5ce3-4fa7-8e61-1e57881c1042',\n",
       "   'name': 'order-6',\n",
       "   'description': 'Michael Kors - 2 DFs  - credit card spend',\n",
       "   'user_email': 'dmalav@carbonarc.co',\n",
       "   'framework_ids': ['5c374ba9-3bda-4ceb-9b9e-3f5123696aa4',\n",
       "    '58626bf7-15b4-4ac8-b39c-49d8743feecf'],\n",
       "   'created_at': '2025-05-15T19:22:01.074840',\n",
       "   'updated_at': '2025-05-15T19:22:01.074840'},\n",
       "  {'id': 'b405b8c3-f2ac-4697-9dbc-c09993eab343',\n",
       "   'name': 'order-4',\n",
       "   'description': 'Michael Kors  - credit card spend',\n",
       "   'user_email': 'dmalav@carbonarc.co',\n",
       "   'framework_ids': ['ff5cece4-5517-4561-aa78-17029d8356b0'],\n",
       "   'created_at': '2025-05-15T16:51:11.449873',\n",
       "   'updated_at': '2025-05-15T16:51:11.449873'},\n",
       "  {'id': '547147fa-7470-4643-b77c-0700f6e32d18',\n",
       "   'name': 'order-2',\n",
       "   'description': 'Michael Kors and A&W Root Beer - credit card spend',\n",
       "   'user_email': 'dmalav@carbonarc.co',\n",
       "   'framework_ids': ['9cd75285-5bb6-49b4-b9d9-c13b908d4457'],\n",
       "   'created_at': '2025-05-14T19:53:34.070670',\n",
       "   'updated_at': '2025-05-14T19:53:34.070670'},\n",
       "  {'id': '7b66bf60-a7aa-48eb-a085-a3eb2de0673f',\n",
       "   'name': 'order-2',\n",
       "   'description': 'Michael Kors and A&W Root Beer - credit card spend',\n",
       "   'user_email': 'dmalav@carbonarc.co',\n",
       "   'framework_ids': ['928bd3f1-b722-4f38-a613-d5a30917fe82'],\n",
       "   'created_at': '2025-05-14T19:11:19.748542',\n",
       "   'updated_at': '2025-05-14T19:11:19.748542'},\n",
       "  {'id': 'b94df8b3-3525-4a42-a446-3cc9072a77e9',\n",
       "   'name': 'order-1',\n",
       "   'description': 'Michael Kors - credit card spend',\n",
       "   'user_email': 'dmalav@carbonarc.co',\n",
       "   'framework_ids': ['4c20e67d-fcf6-4e01-b868-00d26e308283'],\n",
       "   'created_at': '2025-05-14T18:53:24.651184',\n",
       "   'updated_at': '2025-05-14T18:53:24.651184'}]}"
      ]
     },
     "execution_count": 75,
     "metadata": {},
     "output_type": "execute_result"
    }
   ],
   "source": [
    "# Get orders\n",
    "url = f\"https://dev1.platform.carbonarc.co/api/v2/framework/orders\"\n",
    "response=client._get(url)\n",
    "response"
   ]
  },
  {
   "cell_type": "code",
   "execution_count": 100,
   "metadata": {},
   "outputs": [
    {
     "data": {
      "text/plain": [
       "{'refreshed_date': '2025-05-14 10:34:14',\n",
       " 'reinstated_date': '2025-05-14 10:34:14',\n",
       " 'price': 19.2113,\n",
       " 'schema': [{'col_name': 'carc_id', 'data_type': 'string'},\n",
       "  {'col_name': 'carc_name', 'data_type': 'string'},\n",
       "  {'col_name': 'total_visits', 'data_type': 'string'},\n",
       "  {'col_name': 'representation', 'data_type': 'string'}],\n",
       " 'insight_information': [{'metric_id': 52,\n",
       "   'insight_id': 566,\n",
       "   'subject_id': 14,\n",
       "   'metric_name': 'total_visits',\n",
       "   'insight_name': 'demo_total_visits',\n",
       "   'insight_type': 'insight_metric',\n",
       "   'metric_label': 'Website Traffic',\n",
       "   'subject_name': 'clickstream',\n",
       "   'subject_type': 'insight',\n",
       "   'insight_label': 'Website Traffic',\n",
       "   'subject_label': 'Clickstream',\n",
       "   'entity_topic_id': 122,\n",
       "   'subject_category': 'Engagement',\n",
       "   'subject_keywords': 'Clickstream, Web, Engagement',\n",
       "   'entity_topic_name': 'clickd',\n",
       "   'entity_subtopic_id': 156,\n",
       "   'entity_topic_label': 'Clickstream by Demographic',\n",
       "   'subject_description': 'Data on user activity and behavior on websites.',\n",
       "   'entity_subtopic_name': 'clickd',\n",
       "   'entity_subtopic_label': 'Clickstream by Demographic',\n",
       "   'entity_topic_keywords': 'Clickstream, Attention, Website, Traffic, Engagement, Web, Desktop, Mobile, Site, Demo, Demographic',\n",
       "   'entity_subtopic_keywords': 'Clickstream, Attention, Website, Traffic, Engagement, Web, Desktop, Mobile, Site, Demo, Demographic'}],\n",
       " 'entities': [{'domain': 'bizfin',\n",
       "   'entity': 'brand',\n",
       "   'carc_id': 30065,\n",
       "   'category': {'id': [115, 161, 14],\n",
       "    'name': ['Financials', 'Insurance', 'Auto Insurance'],\n",
       "    'entity': 'brand',\n",
       "    'representation': 'category'},\n",
       "   'carc_name': 'AAA Auto Insurance',\n",
       "   'id_column': 'service_brand_id',\n",
       "   'name_column': 'service_brand_name',\n",
       "   'representation': 'service'}]}"
      ]
     },
     "execution_count": 100,
     "metadata": {},
     "output_type": "execute_result"
    }
   ],
   "source": [
    "# Get framework data\n",
    "# https://dev1.platform.carbonarc.co/api/v2/framework/85e344a1-c702-45f4-a21c-9a173113d3ec/data?data_type=timeseries\n",
    "framework_id = '4b4e5c26-4abe-430d-9e5e-5dd893e24715'\n",
    "framework_id = '85e344a1-c702-45f4-a21c-9a173113d3ec'\n",
    "url = f\"https://dev1.platform.carbonarc.co/api/v2/framework/{framework_id}/metadata\"\n",
    "response=client._get(url)\n",
    "response"
   ]
  },
  {
   "cell_type": "code",
   "execution_count": 101,
   "metadata": {},
   "outputs": [
    {
     "data": {
      "text/plain": [
       "{'query': \"SELECT 'retailer' representation,\\n                  card_1.retailer_banner_brand_id carc_id,\\n                  card_1.retailer_banner_brand_name carc_name,\\n                  SUM(card_1.card_spend) card_spend\\nFROM cupcake.entity_explorer.brand_goods_retailer_card_retailer_zip_day card_1\\nWHERE card_1.retailer_banner_brand_id IN (1403)\\nGROUP BY 2,\\n         3\"}"
      ]
     },
     "execution_count": 101,
     "metadata": {},
     "output_type": "execute_result"
    }
   ],
   "source": [
    "url = f\"https://dev1.platform.carbonarc.co/api/v2/framework/4e03cfb8-3121-4fa9-9161-388fe7c63128/query\"\n",
    "response=client._get(url)\n",
    "response"
   ]
  },
  {
   "cell_type": "code",
   "execution_count": 115,
   "metadata": {},
   "outputs": [
    {
     "data": {
      "text/plain": [
       "{'type': 'dataframe',\n",
       " 'total': 12,\n",
       " 'page': 1,\n",
       " 'size': 100,\n",
       " 'pages': 1,\n",
       " 'data': [{'representation': 'ticker',\n",
       "   'carc_id': 3233,\n",
       "   'carc_name': 'UDR',\n",
       "   'date': '2025-04-30',\n",
       "   'total_visits': 1820},\n",
       "  {'representation': 'ticker',\n",
       "   'carc_id': 3233,\n",
       "   'carc_name': 'UDR',\n",
       "   'date': '2025-05-02',\n",
       "   'total_visits': 808},\n",
       "  {'representation': 'ticker',\n",
       "   'carc_id': 3233,\n",
       "   'carc_name': 'UDR',\n",
       "   'date': '2025-04-28',\n",
       "   'total_visits': 676},\n",
       "  {'representation': 'ticker',\n",
       "   'carc_id': 3233,\n",
       "   'carc_name': 'UDR',\n",
       "   'date': '2025-04-26',\n",
       "   'total_visits': 508},\n",
       "  {'representation': 'ticker',\n",
       "   'carc_id': 3233,\n",
       "   'carc_name': 'UDR',\n",
       "   'date': '2025-05-03',\n",
       "   'total_visits': 644},\n",
       "  {'representation': 'ticker',\n",
       "   'carc_id': 3233,\n",
       "   'carc_name': 'UDR',\n",
       "   'date': '2025-04-29',\n",
       "   'total_visits': 1560},\n",
       "  {'representation': 'ticker',\n",
       "   'carc_id': 3233,\n",
       "   'carc_name': 'UDR',\n",
       "   'date': '2025-05-04',\n",
       "   'total_visits': 500},\n",
       "  {'representation': 'ticker',\n",
       "   'carc_id': 3233,\n",
       "   'carc_name': 'UDR',\n",
       "   'date': '2025-04-25',\n",
       "   'total_visits': 264},\n",
       "  {'representation': 'ticker',\n",
       "   'carc_id': 3233,\n",
       "   'carc_name': 'UDR',\n",
       "   'date': '2025-04-27',\n",
       "   'total_visits': 312},\n",
       "  {'representation': 'ticker',\n",
       "   'carc_id': 3233,\n",
       "   'carc_name': 'UDR',\n",
       "   'date': '2025-05-05',\n",
       "   'total_visits': 580},\n",
       "  {'representation': 'ticker',\n",
       "   'carc_id': 3233,\n",
       "   'carc_name': 'UDR',\n",
       "   'date': '2025-05-01',\n",
       "   'total_visits': 1244},\n",
       "  {'representation': 'ticker',\n",
       "   'carc_id': 3233,\n",
       "   'carc_name': 'UDR',\n",
       "   'date': '2025-04-24',\n",
       "   'total_visits': 512}]}"
      ]
     },
     "execution_count": 115,
     "metadata": {},
     "output_type": "execute_result"
    }
   ],
   "source": [
    "# Get framework data\n",
    "url = f\"https://dev1.platform.carbonarc.co/api/v2/framework/1de9e44f-df50-493e-a908-fb2be76e0e2f/data\"\n",
    "response=client._get(url)\n"
   ]
  },
  {
   "cell_type": "code",
   "execution_count": null,
   "metadata": {},
   "outputs": [],
   "source": []
  }
 ],
 "metadata": {
  "kernelspec": {
   "display_name": "Python 3 (ipykernel)",
   "language": "python",
   "name": "python3"
  },
  "language_info": {
   "codemirror_mode": {
    "name": "ipython",
    "version": 3
   },
   "file_extension": ".py",
   "mimetype": "text/x-python",
   "name": "python",
   "nbconvert_exporter": "python",
   "pygments_lexer": "ipython3",
   "version": "3.10.11"
  }
 },
 "nbformat": 4,
 "nbformat_minor": 4
}
