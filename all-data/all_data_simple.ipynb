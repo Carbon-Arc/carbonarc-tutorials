{
 "cells": [
  {
   "cell_type": "markdown",
   "metadata": {},
   "source": [
    "# Bulk Data - Getting started\n",
    "\n",
    "## Prerequisites\n",
    "- `carbonarc` sdk and other dependencies in local python environment\n",
    "\n",
    "```\n",
    "python3.10 -m venv .venv\n",
    "source .venv/bin/activate\n",
    "pip install git+https://github.com/Carbon-Arc/carbonarc\n",
    "pip install python-dotenv\n",
    "```\n",
    "\n",
    "## Setup\n",
    "\n",
    "1. create .env file in the same directory as this notebook or export `API_AUTH_TOKEN` env variable\n",
    "2. If using .env add the following lines to the .env :\n",
    "\n",
    "```\n",
    "API_AUTH_TOKEN=<api auth token from (https://platform.carbonarc.co/profile)>\n",
    "```"
   ]
  },
  {
   "cell_type": "code",
   "execution_count": 24,
   "metadata": {},
   "outputs": [],
   "source": [
    "# Import required dependencies\n",
    "import os\n",
    "from dotenv import load_dotenv\n",
    "from carbonarc import APIClient"
   ]
  },
  {
   "cell_type": "code",
   "execution_count": 25,
   "metadata": {},
   "outputs": [],
   "source": [
    "## Read in environment variables\n",
    "load_dotenv()\n",
    "API_AUTH_TOKEN=os.getenv(\"API_AUTH_TOKEN\", None)"
   ]
  },
  {
   "cell_type": "code",
   "execution_count": 35,
   "metadata": {},
   "outputs": [],
   "source": [
    "# Create API Client\n",
    "client = APIClient(API_AUTH_TOKEN)"
   ]
  },
  {
   "cell_type": "code",
   "execution_count": 36,
   "metadata": {},
   "outputs": [
    {
     "name": "stdout",
     "output_type": "stream",
     "text": [
      "Data Identifiers:\n",
      "card_us_detail_data :  Card - US Detailed Panel Row Level Data\n",
      "pos_instore_online_data :  POS Transaction Bulk Data\n",
      "permit_data :  Permit Row Level Data\n",
      "medicare_claims_data :  Medicare Claims Data\n",
      "card_us_can_general_data :  Card - US and CAN General Panel Row Level Data\n",
      "clickstream_data :  Clickstream Data\n",
      "trade_export_data :  Trade Export Data\n",
      "trade_import_data :  Trade Import Data\n",
      "card_eu_data :  Card - EU Panel Row Level Data\n",
      "pos_cse_data :  POS Corner Store Transaction Data\n",
      "pos_skupos_data :  POS Convenience Store Transaction Data\n",
      "ecommerce_metrics_data :  Ecommerce Metrics Row Level Data\n",
      "vehicle_registration_data :  Vehicle Registration Row Level Data\n"
     ]
    }
   ],
   "source": [
    "## Get insights data identifiers\n",
    "data_identifiers = client.get_alldata_data_identifiers()\n",
    "print(\"Data Identifiers:\")\n",
    "for data_id in data_identifiers[\"data\"]:\n",
    "    print(data_id[\"data_identifier\"], \": \", data_id[\"description\"])"
   ]
  },
  {
   "cell_type": "code",
   "execution_count": 38,
   "metadata": {},
   "outputs": [
    {
     "name": "stdout",
     "output_type": "stream",
     "text": [
      "\n",
      "Manifest for vehicle_registration_data:\n",
      "{'url': 'https://platform.carbonarc.co/api/v2/data/alldata/vehicle_registration_data/part-00000-a92189b3-b568-4068-9e04-0a34f59a3a88?drop_partition_id=1744757997', 'format': 'parquet', 'records': 4471504, 'size_bytes': 31863469, 'modification_time': '2025-04-15T23:04:44'}\n",
      "{'url': 'https://platform.carbonarc.co/api/v2/data/alldata/vehicle_registration_data/part-00000-b571f9bb-10c0-4716-87ce-0ea5a58e20af?drop_partition_id=1740512141', 'format': 'parquet', 'records': 55103110, 'size_bytes': 533682045, 'modification_time': '2025-03-12T22:57:36'}\n",
      "{'url': 'https://platform.carbonarc.co/api/v2/data/alldata/vehicle_registration_data/part-00000-d2ef64bc-680d-4378-83d6-cb146d58005e?drop_partition_id=1740512141', 'format': 'parquet', 'records': 49666721, 'size_bytes': 477762416, 'modification_time': '2025-03-12T22:57:06'}\n",
      "{'url': 'https://platform.carbonarc.co/api/v2/data/alldata/vehicle_registration_data/part-00000-69ef360f-356a-425d-91ad-eeddd9bba4d9?drop_partition_id=1741819689', 'format': 'parquet', 'records': 7406839, 'size_bytes': 54818210, 'modification_time': '2025-03-12T22:54:24'}\n"
     ]
    }
   ],
   "source": [
    "## Getting all manifests files for a given data identifier\n",
    "data_identifier = \"vehicle_registration_data\"\n",
    "manifests = client.get_alldata_manifest(data_identifier)\n",
    "print(f\"\\nManifest for {data_identifier}:\")\n",
    "for manifest in manifests[\"files\"]:\n",
    "    print(manifest)"
   ]
  },
  {
   "cell_type": "code",
   "execution_count": 42,
   "metadata": {},
   "outputs": [
    {
     "name": "stdout",
     "output_type": "stream",
     "text": [
      "Downloading manifest file to: ./output/alldata/vehicle_registration_data/part-00001.parquet\n"
     ]
    }
   ],
   "source": [
    "# Download the file from manifest url\n",
    "manifest_file_url=\"https://platform.carbonarc.co/api/v2/data/alldata/vehicle_registration_data/part-00000-a92189b3-b568-4068-9e04-0a34f59a3a88?drop_partition_id=1744757997\"\n",
    "output_dir=\"./output/alldata/vehicle_registration_data\"\n",
    "output_file_path = os.path.join(output_dir, \"part-00001.parquet\")\n",
    "\n",
    "os.makedirs(output_dir, exist_ok=True)\n",
    "\n",
    "print(f\"Downloading manifest file to: {output_file_path}\")\n",
    "client.download_alldata_to_file(manifest_file_url, output_file_path)\n"
   ]
  }
 ],
 "metadata": {
  "kernelspec": {
   "display_name": "Python 3 (ipykernel)",
   "language": "python",
   "name": "python3"
  },
  "language_info": {
   "codemirror_mode": {
    "name": "ipython",
    "version": 3
   },
   "file_extension": ".py",
   "mimetype": "text/x-python",
   "name": "python",
   "nbconvert_exporter": "python",
   "pygments_lexer": "ipython3",
   "version": "3.10.11"
  }
 },
 "nbformat": 4,
 "nbformat_minor": 4
}
