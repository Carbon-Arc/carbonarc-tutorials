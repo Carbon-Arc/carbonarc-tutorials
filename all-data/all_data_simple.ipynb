{
 "cells": [
  {
   "cell_type": "markdown",
   "metadata": {},
   "source": [
    "# Bulk Data - Getting started\n",
    "\n",
    "## Prerequisites\n",
    "- `carbonarc` sdk and other dependencies in local python environment\n",
    "\n",
    "```\n",
    "python3.10 -m venv .venv\n",
    "source .venv/bin/activate\n",
    "pip install git+https://github.com/Carbon-Arc/carbonarc\n",
    "pip install python-dotenv\n",
    "```\n",
    "\n",
    "## Setup\n",
    "\n",
    "1. create .env file in the same directory as this notebook or export `API_AUTH_TOKEN` env variable\n",
    "2. If using .env add the following lines to the .env :\n",
    "\n",
    "```\n",
    "API_AUTH_TOKEN=<api auth token from (https://platform.carbonarc.co/profile)>\n",
    "```"
   ]
  },
  {
   "cell_type": "code",
   "execution_count": null,
   "metadata": {},
   "outputs": [],
   "source": [
    "# Import required dependencies\n",
    "import os\n",
    "from dotenv import load_dotenv\n",
    "from carbonarc import APIClient"
   ]
  },
  {
   "cell_type": "code",
   "execution_count": null,
   "metadata": {},
   "outputs": [],
   "source": [
    "## Read in environment variables\n",
    "load_dotenv()\n",
    "API_AUTH_TOKEN=os.getenv(\"API_AUTH_TOKEN\", None)"
   ]
  },
  {
   "cell_type": "code",
   "execution_count": null,
   "metadata": {},
   "outputs": [],
   "source": [
    "# Create API Client\n",
    "client = APIClient(API_AUTH_TOKEN)"
   ]
  },
  {
   "cell_type": "code",
   "execution_count": null,
   "metadata": {},
   "outputs": [],
   "source": [
    "## Get insights data identifiers\n",
    "data_identifiers = client.get_alldata_data_identifiers()\n",
    "print(\"Data Identifiers:\")\n",
    "for data_id in data_identifiers[\"data\"]:\n",
    "    print(data_id[\"data_identifier\"], \": \", data_id[\"description\"])"
   ]
  },
  {
   "cell_type": "code",
   "execution_count": null,
   "metadata": {},
   "outputs": [],
   "source": [
    "## Getting all manifests files for a given data identifier\n",
    "data_identifier = \"vehicle_registration_data\"\n",
    "manifests = client.get_alldata_manifest(data_identifier)\n",
    "print(f\"\\nManifest for {data_identifier}:\")\n",
    "for manifest in manifests[\"files\"]:\n",
    "    print(manifest)"
   ]
  },
  {
   "cell_type": "code",
   "execution_count": null,
   "metadata": {},
   "outputs": [],
   "source": [
    "# Download the file from manifest url\n",
    "manifest_file_url=\"https://platform.carbonarc.co/api/v2/data/alldata/vehicle_registration_data/part-00000-a92189b3-b568-4068-9e04-0a34f59a3a88?drop_partition_id=1744757997\"\n",
    "output_dir=\"./output/alldata/vehicle_registration_data\"\n",
    "output_file_path = os.path.join(output_dir, \"part-00001.parquet\")\n",
    "\n",
    "os.makedirs(output_dir, exist_ok=True)\n",
    "\n",
    "print(f\"Downloading manifest file to: {output_file_path}\")\n",
    "client.download_alldata_to_file(manifest_file_url, output_file_path)\n"
   ]
  }
 ],
 "metadata": {
  "kernelspec": {
   "display_name": "Python 3 (ipykernel)",
   "language": "python",
   "name": "python3"
  },
  "language_info": {
   "codemirror_mode": {
    "name": "ipython",
    "version": 3
   },
   "file_extension": ".py",
   "mimetype": "text/x-python",
   "name": "python",
   "nbconvert_exporter": "python",
   "pygments_lexer": "ipython3",
   "version": "3.10.11"
  }
 },
 "nbformat": 4,
 "nbformat_minor": 4
}
